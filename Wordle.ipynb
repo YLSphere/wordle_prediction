{
 "cells": [
  {
   "cell_type": "code",
   "execution_count": 30,
   "id": "174ff713",
   "metadata": {},
   "outputs": [],
   "source": [
    "import pandas as pd\n",
    "import numpy as np\n",
    "import matplotlib.pyplot as plt\n",
    "import seaborn as sns"
   ]
  },
  {
   "cell_type": "code",
   "execution_count": 2,
   "id": "308e1ff1",
   "metadata": {},
   "outputs": [],
   "source": [
    "words = pd.read_csv('5_letters.csv')"
   ]
  },
  {
   "cell_type": "code",
   "execution_count": 4,
   "id": "12c50262",
   "metadata": {},
   "outputs": [
    {
     "data": {
      "text/html": [
       "<div>\n",
       "<style scoped>\n",
       "    .dataframe tbody tr th:only-of-type {\n",
       "        vertical-align: middle;\n",
       "    }\n",
       "\n",
       "    .dataframe tbody tr th {\n",
       "        vertical-align: top;\n",
       "    }\n",
       "\n",
       "    .dataframe thead th {\n",
       "        text-align: right;\n",
       "    }\n",
       "</style>\n",
       "<table border=\"1\" class=\"dataframe\">\n",
       "  <thead>\n",
       "    <tr style=\"text-align: right;\">\n",
       "      <th></th>\n",
       "      <th>1</th>\n",
       "      <th>2</th>\n",
       "      <th>3</th>\n",
       "      <th>4</th>\n",
       "      <th>5</th>\n",
       "      <th>word</th>\n",
       "    </tr>\n",
       "  </thead>\n",
       "  <tbody>\n",
       "    <tr>\n",
       "      <th>0</th>\n",
       "      <td>a</td>\n",
       "      <td>b</td>\n",
       "      <td>a</td>\n",
       "      <td>c</td>\n",
       "      <td>k</td>\n",
       "      <td>aback</td>\n",
       "    </tr>\n",
       "    <tr>\n",
       "      <th>1</th>\n",
       "      <td>a</td>\n",
       "      <td>b</td>\n",
       "      <td>a</td>\n",
       "      <td>s</td>\n",
       "      <td>e</td>\n",
       "      <td>abase</td>\n",
       "    </tr>\n",
       "    <tr>\n",
       "      <th>2</th>\n",
       "      <td>a</td>\n",
       "      <td>b</td>\n",
       "      <td>a</td>\n",
       "      <td>t</td>\n",
       "      <td>e</td>\n",
       "      <td>abate</td>\n",
       "    </tr>\n",
       "    <tr>\n",
       "      <th>3</th>\n",
       "      <td>a</td>\n",
       "      <td>b</td>\n",
       "      <td>a</td>\n",
       "      <td>y</td>\n",
       "      <td>a</td>\n",
       "      <td>abaya</td>\n",
       "    </tr>\n",
       "    <tr>\n",
       "      <th>4</th>\n",
       "      <td>a</td>\n",
       "      <td>b</td>\n",
       "      <td>b</td>\n",
       "      <td>e</td>\n",
       "      <td>y</td>\n",
       "      <td>abbey</td>\n",
       "    </tr>\n",
       "  </tbody>\n",
       "</table>\n",
       "</div>"
      ],
      "text/plain": [
       "   1  2  3  4  5   word\n",
       "0  a  b  a  c  k  aback\n",
       "1  a  b  a  s  e  abase\n",
       "2  a  b  a  t  e  abate\n",
       "3  a  b  a  y  a  abaya\n",
       "4  a  b  b  e  y  abbey"
      ]
     },
     "execution_count": 4,
     "metadata": {},
     "output_type": "execute_result"
    }
   ],
   "source": [
    "words['word'] = words['1']+words['2']+words['3']+words['4']+words['5']\n",
    "words.head()"
   ]
  },
  {
   "cell_type": "code",
   "execution_count": 14,
   "id": "2daf008f",
   "metadata": {},
   "outputs": [],
   "source": [
    "def vowelCount(word):\n",
    "    vowels = {'a':0, 'e':0, 'i':0, 'o':0, 'u':0}\n",
    "    for char in word:\n",
    "        if char in vowels.keys():\n",
    "            vowels[char] = 1\n",
    "    return sum(vowels.values())    "
   ]
  },
  {
   "cell_type": "code",
   "execution_count": 15,
   "id": "6cf6be93",
   "metadata": {},
   "outputs": [],
   "source": [
    "words['uniqueVowels'] = words['word'].apply(vowelCount)"
   ]
  },
  {
   "cell_type": "code",
   "execution_count": 16,
   "id": "8abc4326",
   "metadata": {},
   "outputs": [
    {
     "data": {
      "text/html": [
       "<div>\n",
       "<style scoped>\n",
       "    .dataframe tbody tr th:only-of-type {\n",
       "        vertical-align: middle;\n",
       "    }\n",
       "\n",
       "    .dataframe tbody tr th {\n",
       "        vertical-align: top;\n",
       "    }\n",
       "\n",
       "    .dataframe thead th {\n",
       "        text-align: right;\n",
       "    }\n",
       "</style>\n",
       "<table border=\"1\" class=\"dataframe\">\n",
       "  <thead>\n",
       "    <tr style=\"text-align: right;\">\n",
       "      <th></th>\n",
       "      <th>1</th>\n",
       "      <th>2</th>\n",
       "      <th>3</th>\n",
       "      <th>4</th>\n",
       "      <th>5</th>\n",
       "      <th>word</th>\n",
       "      <th>uniqueVowels</th>\n",
       "    </tr>\n",
       "  </thead>\n",
       "  <tbody>\n",
       "    <tr>\n",
       "      <th>0</th>\n",
       "      <td>a</td>\n",
       "      <td>b</td>\n",
       "      <td>a</td>\n",
       "      <td>c</td>\n",
       "      <td>k</td>\n",
       "      <td>aback</td>\n",
       "      <td>1</td>\n",
       "    </tr>\n",
       "    <tr>\n",
       "      <th>1</th>\n",
       "      <td>a</td>\n",
       "      <td>b</td>\n",
       "      <td>a</td>\n",
       "      <td>s</td>\n",
       "      <td>e</td>\n",
       "      <td>abase</td>\n",
       "      <td>2</td>\n",
       "    </tr>\n",
       "    <tr>\n",
       "      <th>2</th>\n",
       "      <td>a</td>\n",
       "      <td>b</td>\n",
       "      <td>a</td>\n",
       "      <td>t</td>\n",
       "      <td>e</td>\n",
       "      <td>abate</td>\n",
       "      <td>2</td>\n",
       "    </tr>\n",
       "    <tr>\n",
       "      <th>3</th>\n",
       "      <td>a</td>\n",
       "      <td>b</td>\n",
       "      <td>a</td>\n",
       "      <td>y</td>\n",
       "      <td>a</td>\n",
       "      <td>abaya</td>\n",
       "      <td>1</td>\n",
       "    </tr>\n",
       "    <tr>\n",
       "      <th>4</th>\n",
       "      <td>a</td>\n",
       "      <td>b</td>\n",
       "      <td>b</td>\n",
       "      <td>e</td>\n",
       "      <td>y</td>\n",
       "      <td>abbey</td>\n",
       "      <td>2</td>\n",
       "    </tr>\n",
       "  </tbody>\n",
       "</table>\n",
       "</div>"
      ],
      "text/plain": [
       "   1  2  3  4  5   word  uniqueVowels\n",
       "0  a  b  a  c  k  aback             1\n",
       "1  a  b  a  s  e  abase             2\n",
       "2  a  b  a  t  e  abate             2\n",
       "3  a  b  a  y  a  abaya             1\n",
       "4  a  b  b  e  y  abbey             2"
      ]
     },
     "execution_count": 16,
     "metadata": {},
     "output_type": "execute_result"
    }
   ],
   "source": [
    "words.head()"
   ]
  },
  {
   "cell_type": "code",
   "execution_count": 18,
   "id": "eb73bd1c",
   "metadata": {},
   "outputs": [
    {
     "data": {
      "text/html": [
       "<div>\n",
       "<style scoped>\n",
       "    .dataframe tbody tr th:only-of-type {\n",
       "        vertical-align: middle;\n",
       "    }\n",
       "\n",
       "    .dataframe tbody tr th {\n",
       "        vertical-align: top;\n",
       "    }\n",
       "\n",
       "    .dataframe thead th {\n",
       "        text-align: right;\n",
       "    }\n",
       "</style>\n",
       "<table border=\"1\" class=\"dataframe\">\n",
       "  <thead>\n",
       "    <tr style=\"text-align: right;\">\n",
       "      <th></th>\n",
       "      <th>1</th>\n",
       "      <th>2</th>\n",
       "      <th>3</th>\n",
       "      <th>4</th>\n",
       "      <th>5</th>\n",
       "      <th>word</th>\n",
       "      <th>uniqueVowels</th>\n",
       "    </tr>\n",
       "  </thead>\n",
       "  <tbody>\n",
       "    <tr>\n",
       "      <th>34</th>\n",
       "      <td>a</td>\n",
       "      <td>d</td>\n",
       "      <td>i</td>\n",
       "      <td>e</td>\n",
       "      <td>u</td>\n",
       "      <td>adieu</td>\n",
       "      <td>4</td>\n",
       "    </tr>\n",
       "    <tr>\n",
       "      <th>208</th>\n",
       "      <td>a</td>\n",
       "      <td>u</td>\n",
       "      <td>d</td>\n",
       "      <td>i</td>\n",
       "      <td>o</td>\n",
       "      <td>audio</td>\n",
       "      <td>4</td>\n",
       "    </tr>\n",
       "  </tbody>\n",
       "</table>\n",
       "</div>"
      ],
      "text/plain": [
       "     1  2  3  4  5   word  uniqueVowels\n",
       "34   a  d  i  e  u  adieu             4\n",
       "208  a  u  d  i  o  audio             4"
      ]
     },
     "execution_count": 18,
     "metadata": {},
     "output_type": "execute_result"
    }
   ],
   "source": [
    "words[words['uniqueVowels'] == 4]"
   ]
  },
  {
   "cell_type": "code",
   "execution_count": 40,
   "id": "708562b8",
   "metadata": {},
   "outputs": [
    {
     "data": {
      "text/plain": [
       "a    1115\n",
       "e    1416\n",
       "i     675\n",
       "o     827\n",
       "u     396\n",
       "dtype: int64"
      ]
     },
     "execution_count": 40,
     "metadata": {},
     "output_type": "execute_result"
    }
   ],
   "source": [
    "# Count of the most common vowels\n",
    "\n",
    "letterOne = words['1'].value_counts().loc[['a','e','i','o','u']]\n",
    "letterTwo = words['2'].value_counts().loc[['a','e','i','o','u']]\n",
    "letterThree = words['3'].value_counts().loc[['a','e','i','o','u']]\n",
    "letterFour = words['4'].value_counts().loc[['a','e','i','o','u']]\n",
    "letterFive = words['5'].value_counts().loc[['a','e','i','o','u']]\n",
    "\n",
    "letterOne+letterTwo+letterThree+letterFour+letterFive"
   ]
  },
  {
   "cell_type": "code",
   "execution_count": null,
   "id": "34a33da7",
   "metadata": {},
   "outputs": [],
   "source": []
  }
 ],
 "metadata": {
  "kernelspec": {
   "display_name": "Python 3 (ipykernel)",
   "language": "python",
   "name": "python3"
  },
  "language_info": {
   "codemirror_mode": {
    "name": "ipython",
    "version": 3
   },
   "file_extension": ".py",
   "mimetype": "text/x-python",
   "name": "python",
   "nbconvert_exporter": "python",
   "pygments_lexer": "ipython3",
   "version": "3.9.7"
  }
 },
 "nbformat": 4,
 "nbformat_minor": 5
}
